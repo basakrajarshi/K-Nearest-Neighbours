{
 "cells": [
  {
   "cell_type": "markdown",
   "metadata": {},
   "source": [
    "# K-Nearest Neighbors Homework Solutions\n",
    "***\n",
    "**Name**: $<$Rajarshi Basak$>$ \n",
    "***\n",
    "\n",
    "This assignment is due on Moodle by **5pm on Friday January 26th**. Submit only this Jupyter notebook to Moodle.  Do not compress it using tar, rar, zip, etc. Your solutions to analysis questions should be done in Markdown directly below the associated question.  Remember that you are encouraged to discuss the problems with your instructors and classmates, but **you must write all code and solutions on your own**.  For a refresher on the course **Collaboration Policy** click [here](https://github.com/chrisketelsen/CSCI5622-Machine-Learning/blob/master/resources/syllabus.md#collaboration-policy)"
   ]
  },
  {
   "cell_type": "markdown",
   "metadata": {},
   "source": [
    "## Overview \n",
    "***\n",
    "\n",
    "\n",
    "In this homework you'll implement a K-Nearest Neighbor framework to take an image of a handwritten digit and predict which digit it corresponds to.  \n",
    "\n",
    "<br>\n",
    "\n",
    "![Samples of Handwritten Digits](wide_mnist.png \"MNIST Digits\")\n",
    "\n",
    "\n",
    "<br>\n",
    "\n",
    "This homework is designed to be pretty easy. If you're spending a ton of time on this assignment, then you are either:\n",
    "\n",
    "- not prepared to take this course (i.e., if you're struggling with Python)\n",
    "- seriously over-thinking the assignment\n",
    "- trying to implement too much of KNN from scratch\n",
    "\n",
    "\n",
    "Most of this assignment will be done by calling libraries that are already implemented for you. If you are implementing $n$-dimensional search or your own distance metrics, you are generating extra work for yourself and making yourself vulnerable to errors. \n",
    "\n",
    "Here are the rules: \n",
    "\n",
    "- Do **NOT** load or use any Python packages that are not available in Anaconda 3.6. \n",
    "- Some problems with code may be autograded.  If we provide a function or class API **do not** change it.\n",
    "- Do not change the location of the data or data directory.  Use only relative paths to access the data. "
   ]
  },
  {
   "cell_type": "code",
   "execution_count": 6,
   "metadata": {
    "collapsed": true
   },
   "outputs": [],
   "source": [
    "import numpy as np\n",
    "import matplotlib.pylab as plt\n",
    "%matplotlib inline \n",
    "\n",
    "from collections import Counter, defaultdict\n",
    "from numpy import median"
   ]
  },
  {
   "cell_type": "markdown",
   "metadata": {},
   "source": [
    "### [5 points] Problem 1\n",
    "***\n",
    "\n",
    "The class below will load and store the MNIST data.  Load the data and then report: \n",
    "- The number of examples in the training set \n",
    "- The number of examples in the test set \n",
    "- The number of pixels in each image. "
   ]
  },
  {
   "cell_type": "code",
   "execution_count": 7,
   "metadata": {
    "collapsed": true
   },
   "outputs": [],
   "source": [
    "class Numbers:\n",
    "    \"\"\"\n",
    "    Class to store MNIST data\n",
    "    \"\"\"\n",
    "    def __init__(self, location):\n",
    "\n",
    "        import pickle, gzip\n",
    "\n",
    "        # load data from file \n",
    "        f = gzip.open(location, 'rb')\n",
    "        train_set, valid_set, test_set = pickle.load(f)\n",
    "        f.close()\n",
    "\n",
    "        # store for use later  \n",
    "        self.train_x, self.train_y = train_set\n",
    "        self.test_x, self.test_y = valid_set"
   ]
  },
  {
   "cell_type": "code",
   "execution_count": 8,
   "metadata": {},
   "outputs": [
    {
     "name": "stdout",
     "output_type": "stream",
     "text": [
      "The number of examples in the training set are  50000\n",
      "The number of examples in the test set are  10000\n",
      "The number of pixels in each image are  784\n"
     ]
    }
   ],
   "source": [
    "data = Numbers(\"../data/mnist.pklz\")\n",
    "print (\"The number of examples in the training set are \" , data.train_x.shape[0])\n",
    "print (\"The number of examples in the test set are \" , data.test_x.shape[0])\n",
    "print (\"The number of pixels in each image are \", data.train_x.shape[1])"
   ]
  },
  {
   "cell_type": "markdown",
   "metadata": {},
   "source": [
    "### [30 points] Problem 2\n",
    "***\n",
    "\n",
    "The class below will perform K-Nearest Neighbor classification on our handwritten digit data. Your tasks are as follows:   \n",
    "\n",
    "1. Modify the `label_counts` function to return a dictionary of frequencies corresponding to each label in the training set. \n",
    "1. Modify the `majority` function so that it returns the _label_ that appears most frequently in the $K$-nearest neighbors of the query point.  In the case that the maximum frequency occurs for two or more labels, return the one that appears most frequently in the entire training set. In the case that there is still a tie, break the tie in any way that you choose. \n",
    "1. Modify the `classify` function so that it finds the _indices_ of the $K$ closest training examples to the query point and then calls the `majority` function to return the predicted label. Almost all of the heavy lifting here will be done by the BallTree object from `sklearn.neighbors`, so you'll want to start out by reading the [documentation](http://scikit-learn.org/stable/modules/generated/sklearn.neighbors.BallTree.html).  \n",
    "1. Modify the `confusion_matrix` function to classify examples and record the results in a confusion matrix. You should construct the confusion matrix on your own.  Don't call any additional functions from sklearn to do it for you.\n",
    "\n",
    "The class Knearest also implements an `accuracy` function which you will use in **Problem 3**.  You should not have to modify this function. \n",
    "\n",
    "We've given you unit tests down below based on the simple example worked out in lecture.  At first your code will fail all of them.  Do not move on to **Problem 3** until your code passes all of the unit tests. In addition, passing the unit tests does not guarantee that your implementation is robust and that you'll earn full points on this problem.  You should be designing your own additional tests as well. "
   ]
  },
  {
   "cell_type": "code",
   "execution_count": 139,
   "metadata": {
    "collapsed": true
   },
   "outputs": [],
   "source": [
    "class Knearest:\n",
    "    \"\"\"\n",
    "    kNN classifier\n",
    "    \"\"\"\n",
    "\n",
    "    def __init__(self, X, y, k=5):\n",
    "        \"\"\"\n",
    "        Creates a kNN instance\n",
    "\n",
    "        :param x: Training data input\n",
    "        :param y: Training data output\n",
    "        :param k: The number of nearest points to consider in classification\n",
    "        \"\"\"\n",
    "        \n",
    "        from sklearn.neighbors import BallTree\n",
    "\n",
    "        self._kdtree = BallTree(X)\n",
    "        self._y = y\n",
    "        self._k = k\n",
    "        self._counts = self.label_counts()\n",
    "        \n",
    "        \n",
    "    def label_counts(self):\n",
    "        \"\"\"\n",
    "        Given the training labels, return a dictionary d where d[y] is  \n",
    "        the number of times that label y appears in the training set. \n",
    "        \"\"\"\n",
    "        uniqvals, uniqcounts = np.unique(self._y, return_counts=True)\n",
    "        return dict(zip(uniqvals, uniqcounts))\n",
    "\n",
    "    def majority(self, neighbor_indices):\n",
    "        \"\"\"\n",
    "        Given the indices of training examples, return the majority label. Break ties \n",
    "        by choosing the tied label that appears most often in the training data. \n",
    "\n",
    "        :param neighbor_indices: The indices of the k nearest neighbors\n",
    "        \"\"\"\n",
    "        assert len(neighbor_indices) == self._k, \"Did not get k neighbor indices\"\n",
    "        \n",
    "        \n",
    "        xd = Counter(self._y[neighbor_indices])\n",
    "        \n",
    "        ma = [x[0] for x in xd.most_common() \n",
    "                    if x[1] == max(xd.values())]\n",
    "        \n",
    "        \n",
    "        maxt = 0\n",
    "        maxv = 0\n",
    "        \n",
    "        for j in ma:\n",
    "            if maxt < self._counts[j]:\n",
    "                maxt = self._counts[j]\n",
    "                maxv = j\n",
    "       \n",
    "        return maxv\n",
    "    \n",
    "\n",
    "    def classify(self, example):\n",
    "        \"\"\"\n",
    "        Given an example, return the predicted label. \n",
    "\n",
    "        :param example: A representation of an example in the same\n",
    "        format as a row of the training data\n",
    "        \"\"\"\n",
    "        _, pt = self._kdtree.query(example, self._k)\n",
    "        return self.majority(pt.flatten())\n",
    "\n",
    "\n",
    "    def confusion_matrix(self, test_x, test_y):\n",
    "        \"\"\"\n",
    "        Given a matrix of test examples and labels, compute the confusion\n",
    "        matrix for the current classifier.  Should return a 2-dimensional\n",
    "        numpy array of ints, C, where C[ii,jj] is the number of times an \n",
    "        example with true label ii was labeled as jj.\n",
    "\n",
    "        :param test_x: test data \n",
    "        :param test_y: true test labels \n",
    "        \"\"\"\n",
    "        \n",
    "        C = defaultdict(dict)\n",
    "        dataind = 0\n",
    "        \n",
    "        for xx, yy in zip(test_x, test_y):\n",
    "            try:\n",
    "                C[yy][self.classify(xx)] += 1\n",
    "            except KeyError:\n",
    "                C[yy][self.classify(xx)] = 1 \n",
    "        \n",
    "        return C \n",
    "    \n",
    "    \n",
    "            \n",
    "    @staticmethod\n",
    "    def accuracy(C):\n",
    "        \"\"\"\n",
    "        Given a confusion matrix C, compute the accuracy of the underlying classifier.\n",
    "        \n",
    "        :param C: a confusion matrix \n",
    "        \"\"\"\n",
    "        confusionmatrix = C\n",
    "        total = 0\n",
    "        correct = 0\n",
    "        for ii in confusionmatrix:\n",
    "            total += sum(confusionmatrix[ii].values())\n",
    "            correct += confusionmatrix[ii].get(ii, 0)\n",
    "\n",
    "        if total:\n",
    "            return float(correct) / float(total)\n",
    "        else:\n",
    "            return 0.0\n",
    "        #print (np.sum(C.diagonal()) / C.sum())\n",
    "        #return np.sum(C.diagonal()) / C.sum()"
   ]
  },
  {
   "cell_type": "markdown",
   "metadata": {},
   "source": [
    "Here are the unit tests.  You don't need to modify them.  Simply execute the cell and observe the output. "
   ]
  },
  {
   "cell_type": "code",
   "execution_count": 140,
   "metadata": {},
   "outputs": [
    {
     "name": "stderr",
     "output_type": "stream",
     "text": [
      "test0 (__main__.TestKnn) ... ok\n",
      "test1 (__main__.TestKnn) ... ok\n",
      "test2 (__main__.TestKnn) ... ok\n",
      "test3 (__main__.TestKnn) ... ok\n",
      "\n",
      "----------------------------------------------------------------------\n",
      "Ran 4 tests in 0.019s\n",
      "\n",
      "OK\n"
     ]
    },
    {
     "data": {
      "text/plain": [
       "<unittest.runner.TextTestResult run=4 errors=0 failures=0>"
      ]
     },
     "execution_count": 140,
     "metadata": {},
     "output_type": "execute_result"
    }
   ],
   "source": [
    "import unittest\n",
    "\n",
    "class TestKnn(unittest.TestCase):\n",
    "    def setUp(self):\n",
    "        self.x = np.array([[2, 0], [4, 1], [6, 0], [1, 4], [2, 4], [2, 5], [4, 4], [0, 2], [3, 2], [4, 2], [5, 2], [5, 5]])\n",
    "        self.y = np.array([+1, +1, +1, +1, +1, +1, +1, -1, -1, -1, -1, -1])\n",
    "        self.knn = {}\n",
    "        for ii in [1, 2, 3]:\n",
    "            self.knn[ii] = Knearest(self.x, self.y, ii)\n",
    "       \n",
    "        \n",
    "        self.queries = np.array([[1, 5], [0, 3], [6, 4]])\n",
    "        \n",
    "    def test0(self):\n",
    "        \"\"\"\n",
    "        Test the label counter \n",
    "        \"\"\"\n",
    "        self.assertEqual(self.knn[1]._counts[-1], 5)\n",
    "        self.assertEqual(self.knn[1]._counts[1], 7)\n",
    "\n",
    "    def test1(self):\n",
    "        \"\"\"\n",
    "        Test 1NN\n",
    "        \"\"\"\n",
    "        self.assertEqual(self.knn[1].classify(self.queries[0]),  1)\n",
    "        self.assertEqual(self.knn[1].classify(self.queries[1]), -1)\n",
    "        self.assertEqual(self.knn[1].classify(self.queries[2]), -1)\n",
    "\n",
    "    def test2(self):\n",
    "        \"\"\"\n",
    "        Test 2NN\n",
    "        \"\"\"\n",
    "        self.assertEqual(self.knn[2].classify(self.queries[0]),  1)\n",
    "        self.assertEqual(self.knn[2].classify(self.queries[1]),  1)\n",
    "        self.assertEqual(self.knn[2].classify(self.queries[2]),  1)\n",
    "\n",
    "    def test3(self):\n",
    "        \"\"\"\n",
    "        Test 3NN\n",
    "        \"\"\"\n",
    "        self.assertEqual(self.knn[3].classify(self.queries[0]),  1)\n",
    "        self.assertEqual(self.knn[3].classify(self.queries[1]),  1)\n",
    "        self.assertEqual(self.knn[3].classify(self.queries[2]), -1)\n",
    "        \n",
    "tests = TestKnn()\n",
    "tests_to_run = unittest.TestLoader().loadTestsFromModule(tests)\n",
    "unittest.TextTestRunner(verbosity=2).run(tests_to_run)"
   ]
  },
  {
   "cell_type": "markdown",
   "metadata": {},
   "source": [
    "### [15 points] Problem 3\n",
    "***\n",
    "\n",
    "In this problem you'll explore the performance of the classifier you've written.  A word of advice: don't use the entire training set, especially at first.  We'll be using this dataset again later on with techniques that scale better.    "
   ]
  },
  {
   "cell_type": "markdown",
   "metadata": {},
   "source": [
    "**Part A**: Explore the relationship between the number of training examples and accuracy on the test set. Comment on your findings and support your observations with some kind of graphic. "
   ]
  },
  {
   "cell_type": "code",
   "execution_count": 117,
   "metadata": {},
   "outputs": [
    {
     "name": "stdout",
     "output_type": "stream",
     "text": [
      "For k = 1\n",
      "The accuracy for 50 training examples is 0.6433\n",
      "The accuracy for 100 training examples is 0.6923\n",
      "The accuracy for 200 training examples is 0.7644\n",
      "The accuracy for 400 training examples is 0.8319\n",
      "The accuracy for 600 training examples is 0.8562\n",
      "The accuracy for 800 training examples is 0.8729\n",
      "The accuracy for 1000 training examples is 0.882\n",
      "The accuracy for 2000 training examples is 0.9102\n",
      "The accuracy for 3000 training examples is 0.9234\n",
      "The accuracy for 4000 training examples is 0.9324\n",
      "The accuracy for 5000 training examples is 0.9388\n",
      "For k = 3\n",
      "The accuracy for 50 training examples is 0.5548\n",
      "The accuracy for 100 training examples is 0.6472\n",
      "The accuracy for 200 training examples is 0.7162\n",
      "The accuracy for 400 training examples is 0.8026\n",
      "The accuracy for 600 training examples is 0.8332\n",
      "The accuracy for 800 training examples is 0.8571\n",
      "The accuracy for 1000 training examples is 0.869\n",
      "The accuracy for 2000 training examples is 0.9052\n",
      "The accuracy for 3000 training examples is 0.923\n",
      "The accuracy for 4000 training examples is 0.9305\n",
      "The accuracy for 5000 training examples is 0.9365\n"
     ]
    },
    {
     "data": {
      "image/png": "[encoded data removed]",
      "text/plain": [
       "<matplotlib.figure.Figure at 0x26c39280668>"
      ]
     },
     "metadata": {},
     "output_type": "display_data"
    }
   ],
   "source": [
    "k1accur = []\n",
    "k3accur = []\n",
    "traindata = [50,100,200,400,600,800,1000,2000,3000,4000,5000]\n",
    "for k in [1,3]:\n",
    "    print (\"For k =\",k)\n",
    "    for dt in [50,100,200,400,600,800,1000,2000,3000,4000,5000]:\n",
    "        #print (dt)\n",
    "        knnlabel = Knearest(data.train_x[:dt],data.train_y[:dt],k)\n",
    "        confmat = knnlabel.confusion_matrix(data.test_x,data.test_y)\n",
    "        accu = knnlabel.accuracy(confmat)\n",
    "        print(\"The accuracy for\" ,dt, \"training examples is\" ,accu)\n",
    "        #k1[dt] = accu\n",
    "        if k == 1:\n",
    "            k1accur.append(accu)\n",
    "        if k == 3:\n",
    "            k3accur.append(accu)\n",
    "            \n",
    "plt.xlabel('Number of training examples')\n",
    "plt.ylabel('Accuracy on the test set')\n",
    "plt.title('Relationship between the number of training examples and accuracy on the test set')\n",
    "plt.plot(traindata, k1accur, 'r', label = 'k = 1') \n",
    "plt.plot(traindata, k3accur, 'b', label = 'k = 3') \n",
    "plt.legend()\n",
    "plt.show()\n"
   ]
  },
  {
   "cell_type": "markdown",
   "metadata": {},
   "source": [
    "**Comments for Part A** : For k = 1, the accuracies for training examples from 50 to 10000 were calculated, and it was observed that there was a steep rise in accuracy as the number of training examples increased from 50 to 500, and then a more gradual rise for number of training examples from 500 to around 2000, and finally a slow rise for the number of training examples from 2000 to 5000, as shown by the plot above. For k = 3, the accuracies were initially slightly lower than that for k = 1 (for training examples from 1000 to 5000), and then almost identical to those for k = 1 for higher numbers of training examples."
   ]
  },
  {
   "cell_type": "markdown",
   "metadata": {},
   "source": [
    "**Part B**: Explore the relationship between the number of nearest neighbors and accuracy on the test set. Comment on your findings and support your observations with some kind of graphic. "
   ]
  },
  {
   "cell_type": "code",
   "execution_count": 118,
   "metadata": {},
   "outputs": [
    {
     "name": "stdout",
     "output_type": "stream",
     "text": [
      "For number of training examples 50\n",
      "The accuracy for k = 1 is 0.6433\n",
      "The accuracy for k = 2 is 0.546\n",
      "The accuracy for k = 3 is 0.5548\n",
      "The accuracy for k = 4 is 0.5438\n",
      "The accuracy for k = 5 is 0.5198\n",
      "The accuracy for k = 6 is 0.4952\n",
      "The accuracy for k = 7 is 0.467\n",
      "The accuracy for k = 8 is 0.4456\n",
      "The accuracy for k = 9 is 0.4288\n",
      "The accuracy for k = 10 is 0.4143\n",
      "For number of training examples 500\n",
      "The accuracy for k = 1 is 0.8458\n",
      "The accuracy for k = 2 is 0.7934\n",
      "The accuracy for k = 3 is 0.8198\n",
      "The accuracy for k = 4 is 0.8061\n",
      "The accuracy for k = 5 is 0.8129\n",
      "The accuracy for k = 6 is 0.8016\n",
      "The accuracy for k = 7 is 0.8024\n",
      "The accuracy for k = 8 is 0.7927\n",
      "The accuracy for k = 9 is 0.7949\n",
      "The accuracy for k = 10 is 0.7842\n",
      "For number of training examples 5000\n",
      "The accuracy for k = 1 is 0.9388\n",
      "The accuracy for k = 2 is 0.9195\n",
      "The accuracy for k = 3 is 0.9365\n",
      "The accuracy for k = 4 is 0.9351\n",
      "The accuracy for k = 5 is 0.9356\n",
      "The accuracy for k = 6 is 0.9331\n",
      "The accuracy for k = 7 is 0.9332\n",
      "The accuracy for k = 8 is 0.9325\n",
      "The accuracy for k = 9 is 0.9332\n",
      "The accuracy for k = 10 is 0.9311\n"
     ]
    },
    {
     "data": {
      "image/png": "[encoded data removed]",
      "text/plain": [
       "<matplotlib.figure.Figure at 0x26c396b9240>"
      ]
     },
     "metadata": {},
     "output_type": "display_data"
    }
   ],
   "source": [
    "d1accur = []\n",
    "d2accur = []\n",
    "d3accur = []\n",
    "\n",
    "for dt in [50,500,5000]:\n",
    "    print (\"For number of training examples\" , dt)\n",
    "    for k in range (1,11):\n",
    "        knnlabel = Knearest(data.train_x[:dt],data.train_y[:dt],k)\n",
    "        confmat = knnlabel.confusion_matrix(data.test_x,data.test_y)\n",
    "        accu = knnlabel.accuracy(confmat)\n",
    "        print(\"The accuracy for k =\" ,k, \"is\" ,accu)\n",
    "        if dt == 50:\n",
    "            d1accur.append(accu)\n",
    "        if dt == 500:\n",
    "            d2accur.append(accu)\n",
    "        if dt == 5000:\n",
    "            d3accur.append(accu)\n",
    "            \n",
    "n_groups = 10\n",
    "\n",
    "fig, ax = plt.subplots()\n",
    "index = np.arange(n_groups)\n",
    "bar_width = 0.15\n",
    "opacity = 0.8\n",
    "\n",
    "rects1 = plt.bar(index, d1accur, bar_width,\n",
    "                 alpha=opacity,\n",
    "                 color='b',\n",
    "                 label='Number of training examples = 50')\n",
    "\n",
    "rects2 = plt.bar(index + bar_width, d2accur, bar_width,\n",
    "                 alpha=opacity,\n",
    "                 color='g',\n",
    "                 label='Number of training examples = 500')\n",
    "\n",
    "rects3 = plt.bar(index + 2*bar_width, d3accur, bar_width,\n",
    "                 alpha=opacity,\n",
    "                 color='r',\n",
    "                 label='Number of training examples = 5000')\n",
    "\n",
    "plt.xlabel('Number of nearest neighbors (k)')\n",
    "plt.ylabel('Accuracy on the test set')\n",
    "plt.title('Relationship between the number of nearest neighbors and accuracy on the test set')\n",
    "plt.xticks(index + bar_width, ('1', '2', '3', '4', '5', '6', '7', '8', '9', '10'))\n",
    "plt.legend()\n",
    " \n",
    "plt.show()            "
   ]
  },
  {
   "cell_type": "markdown",
   "metadata": {},
   "source": [
    "**Comments for Part B** : The accuracies were calculated for number of training examples = 50, 500, 5000, and it was observed that each of the three cases, the accuracy dropped slightly from k = 1 to k = 2, and increased slightly from k = 2 to k = 3, and then dropped gradually as the value of k was increased for a small number of training examples (say 50), but increased slightly when the number of training examples was considerably larger (5000, for example), as shown in the plot above."
   ]
  },
  {
   "cell_type": "markdown",
   "metadata": {},
   "source": [
    "**Part C**: Which numbers get confused with each other the most easily?  Use the confusion_matrix function that you wrote above to support your conclusion.  Then use the `view_digit` function given below to plot a few examples of misclassified digits and discuss possible reasons for the misclassifications.  (Investigating misclassified examples is called **error analysis** and is an important step in the development of any classification technique).  "
   ]
  },
  {
   "cell_type": "code",
   "execution_count": 108,
   "metadata": {},
   "outputs": [
    {
     "name": "stdout",
     "output_type": "stream",
     "text": [
      "\t0\t1\t2\t3\t4\t5\t6\t7\t8\t9\n",
      "-------------------------------------------------------------------------------------\n",
      "0:\t981\t1\t2\t0\t1\t0\t3\t2\t0\t1\n",
      "1:\t0\t1059\t3\t0\t0\t0\t0\t2\t0\t0\n",
      "2:\t6\t26\t909\t7\t2\t1\t4\t27\t4\t4\n",
      "3:\t1\t3\t3\t992\t0\t5\t1\t6\t10\t9\n",
      "4:\t0\t27\t0\t0\t905\t0\t4\t3\t0\t44\n",
      "5:\t5\t8\t0\t29\t3\t825\t27\t5\t5\t8\n",
      "6:\t5\t2\t0\t0\t0\t2\t958\t0\t0\t0\n",
      "7:\t1\t24\t1\t0\t5\t0\t0\t1050\t0\t9\n",
      "8:\t10\t34\t2\t25\t4\t14\t8\t12\t875\t25\n",
      "9:\t9\t7\t1\t12\t11\t2\t0\t27\t1\t891\n"
     ]
    }
   ],
   "source": [
    "k = 10\n",
    "tdp = 10000\n",
    "knnlabel = Knearest(data.train_x[:tdp],data.train_y[:tdp],k)\n",
    "confmat = knnlabel.confusion_matrix(data.test_x,data.test_y)\n",
    "accu = knnlabel.accuracy(confmat)\n",
    "\n",
    "print(\"\\t\" + \"\\t\".join(str(j) for j in range(10)))\n",
    "print(\"\".join([\"-\"] * 85))\n",
    "for ii in range(10):\n",
    "            print(\"%i:\\t\" % ii + \"\\t\".join(str(confmat[ii].get(x, 0)) for x in range(10)))\n",
    "            #print(\"Accuracy: %f\" % knnlabel.accuracy(confmat))"
   ]
  },
  {
   "cell_type": "markdown",
   "metadata": {},
   "source": [
    "**Comments for Part C** : In the confusion matrix for the test set shown above for 10000 examples from the training data and k = 10, the rows represent the true labels whie the columns are the predicted labels. It is observed that\n",
    "<br>\n",
    "(1) '2' is misclassified often as a '1' or a '7'\n",
    "<br>\n",
    "(2) '4' is misclassified often as a '1' or a '9'\n",
    "<br>\n",
    "(3) '5' is misclassified often as a '3' or a '6'\n",
    "<br>\n",
    "(4) '7' is misclassified often as a '1'\n",
    "<br>\n",
    "(5) '8' is misclassified often as a '1', a '3' or a '9'\n",
    "<br>\n",
    "(6) '9' is misclassified often as a '7' "
   ]
  },
  {
   "cell_type": "code",
   "execution_count": 141,
   "metadata": {},
   "outputs": [
    {
     "name": "stdout",
     "output_type": "stream",
     "text": [
      "true label: 5\n"
     ]
    },
    {
     "data": {
      "image/png": "[encoded data removed]",
      "text/plain": [
       "<matplotlib.figure.Figure at 0x26c39d16ba8>"
      ]
     },
     "metadata": {},
     "output_type": "display_data"
    }
   ],
   "source": [
    "def view_digit(example, label=None):\n",
    "    if label: print(\"true label: {:d}\".format(label))\n",
    "    plt.imshow(example.reshape(28,28), cmap='gray');\n",
    "    \n",
    "view_digit(data.train_x[0,:], data.train_y[0])\n",
    "\n"
   ]
  },
  {
   "cell_type": "code",
   "execution_count": 142,
   "metadata": {},
   "outputs": [
    {
     "name": "stdout",
     "output_type": "stream",
     "text": [
      "true label: 4\n"
     ]
    },
    {
     "data": {
      "image/png": "[encoded data removed]",
      "text/plain": [
       "<matplotlib.figure.Figure at 0x26c396c26d8>"
      ]
     },
     "metadata": {},
     "output_type": "display_data"
    }
   ],
   "source": [
    "view_digit(data.train_x[2,:], data.train_y[2])"
   ]
  },
  {
   "cell_type": "code",
   "execution_count": 143,
   "metadata": {
    "scrolled": true
   },
   "outputs": [
    {
     "name": "stdout",
     "output_type": "stream",
     "text": [
      "true label: 9\n"
     ]
    },
    {
     "data": {
      "image/png": "[encoded data removed]",
      "text/plain": [
       "<matplotlib.figure.Figure at 0x26c394e42e8>"
      ]
     },
     "metadata": {},
     "output_type": "display_data"
    }
   ],
   "source": [
    "view_digit(data.train_x[4,:], data.train_y[4])"
   ]
  },
  {
   "cell_type": "code",
   "execution_count": 144,
   "metadata": {},
   "outputs": [
    {
     "name": "stdout",
     "output_type": "stream",
     "text": [
      "true label: 2\n"
     ]
    },
    {
     "data": {
      "image/png": "[encoded data removed]",
      "text/plain": [
       "<matplotlib.figure.Figure at 0x26c39592630>"
      ]
     },
     "metadata": {},
     "output_type": "display_data"
    }
   ],
   "source": [
    "view_digit(data.train_x[5,:], data.train_y[5])"
   ]
  },
  {
   "cell_type": "code",
   "execution_count": 145,
   "metadata": {},
   "outputs": [
    {
     "name": "stdout",
     "output_type": "stream",
     "text": [
      "true label: 7\n"
     ]
    },
    {
     "data": {
      "image/png": "[encoded data removed]",
      "text/plain": [
       "<matplotlib.figure.Figure at 0x26c39463668>"
      ]
     },
     "metadata": {},
     "output_type": "display_data"
    }
   ],
   "source": [
    "view_digit(data.train_x[15,:], data.train_y[15])"
   ]
  },
  {
   "cell_type": "markdown",
   "metadata": {},
   "source": [
    "**Error Analysis** :As shown above, the way a '4' is written resembles somewhat the way a '9' is written, which explains why a '4' can be misclassified as a '9'. Similarly, as shown above, the way a '2' is written resembles somewhat the way a '7' is written, which explains why a '2' can be misclassified as a '7'."
   ]
  }
 ],
 "metadata": {
  "kernelspec": {
   "display_name": "Python 3",
   "language": "python",
   "name": "python3"
  },
  "language_info": {
   "codemirror_mode": {
    "name": "ipython",
    "version": 3
   },
   "file_extension": ".py",
   "mimetype": "text/x-python",
   "name": "python",
   "nbconvert_exporter": "python",
   "pygments_lexer": "ipython3",
   "version": "3.6.6"
  }
 },
 "nbformat": 4,
 "nbformat_minor": 2
}
