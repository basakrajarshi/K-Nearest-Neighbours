{
 "cells": [
  {
   "cell_type": "code",
   "execution_count": 1,
   "metadata": {
    "collapsed": true
   },
   "outputs": [],
   "source": [
    "import numpy as np\n",
    "import matplotlib.pylab as plt\n",
    "%matplotlib inline\n"
   ]
  },
  {
   "cell_type": "code",
   "execution_count": 2,
   "metadata": {
    "collapsed": true
   },
   "outputs": [],
   "source": [
    "class Numbers:\n",
    "    \"\"\"\n",
    "    Class to store MNIST data\n",
    "    \"\"\"\n",
    "    def __init__(self, location):\n",
    "\n",
    "        import pickle, gzip\n",
    "\n",
    "        # load data from file \n",
    "        f = gzip.open(location, 'rb')\n",
    "        train_set, valid_set, test_set = pickle.load(f)\n",
    "        f.close()\n",
    "\n",
    "        # store for use later  \n",
    "        self.train_x, self.train_y = train_set\n",
    "        self.test_x, self.test_y = valid_set"
   ]
  },
  {
   "cell_type": "code",
   "execution_count": 3,
   "metadata": {
    "collapsed": true
   },
   "outputs": [],
   "source": [
    "data = Numbers(\"mnist.pklz\")"
   ]
  },
  {
   "cell_type": "code",
   "execution_count": 11,
   "metadata": {},
   "outputs": [
    {
     "data": {
      "text/plain": [
       "(10000, 784)"
      ]
     },
     "execution_count": 11,
     "metadata": {},
     "output_type": "execute_result"
    }
   ],
   "source": [
    "data.test_x.shape"
   ]
  },
  {
   "cell_type": "code",
   "execution_count": 6,
   "metadata": {},
   "outputs": [
    {
     "ename": "SyntaxError",
     "evalue": "Missing parentheses in call to 'print' (<ipython-input-6-3d8b24bdc08e>, line 1)",
     "output_type": "error",
     "traceback": [
      "\u001b[1;36m  File \u001b[1;32m\"<ipython-input-6-3d8b24bdc08e>\"\u001b[1;36m, line \u001b[1;32m1\u001b[0m\n\u001b[1;33m    print data\u001b[0m\n\u001b[1;37m             ^\u001b[0m\n\u001b[1;31mSyntaxError\u001b[0m\u001b[1;31m:\u001b[0m Missing parentheses in call to 'print'\n"
     ]
    }
   ],
   "source": [
    "class Knearest:\n",
    "    \"\"\"\n",
    "    kNN classifier\n",
    "    \"\"\"\n",
    "\n",
    "    def __init__(self, X, y, k=5):\n",
    "        \"\"\"\n",
    "        Creates a kNN instance\n",
    "\n",
    "        :param x: Training data input\n",
    "        :param y: Training data output\n",
    "        :param k: The number of nearest points to consider in classification\n",
    "        \"\"\"\n",
    "        \n",
    "        from sklearn.neighbors import BallTree\n",
    "\n",
    "        self._kdtree = BallTree(X)\n",
    "        self._y = y\n",
    "        self._k = k\n",
    "        self._counts = self.label_counts()\n",
    "        \n",
    "    def label_counts(self):\n",
    "        \"\"\"\n",
    "        Given the training labels, return a dictionary d where d[y] is  \n",
    "        the number of times that label y appears in the training set. \n",
    "        \"\"\"\n",
    "        uniqvals, uniqcounts = np.unique(self._y, return_counts=True)\n",
    "        \n",
    "        return dict(zip(uniqvals, uniqcounts))\n",
    "\n",
    "    def majority(self, neighbor_indices):\n",
    "        \"\"\"\n",
    "        Given the indices of training examples, return the majority label. Break ties \n",
    "        by choosing the tied label that appears most often in the training data. \n",
    "\n",
    "        :param neighbor_indices: The indices of the k nearest neighbors\n",
    "        \"\"\"\n",
    "        assert len(neighbor_indices) == self._k, \"Did not get k neighbor indices\"\n",
    "        \n",
    "        return self._y[neighbor_indices[0]]\n",
    "    \n",
    "\n",
    "    def classify(self, example):\n",
    "        \"\"\"\n",
    "        Given an example, return the predicted label. \n",
    "\n",
    "        :param example: A representation of an example in the same\n",
    "        format as a row of the training data\n",
    "        \"\"\"\n",
    "        \n",
    "        return self.majority([np.random.randint(0,10) for ii in range(self._k)])\n",
    "\n",
    "\n",
    "    def confusion_matrix(self, test_x, test_y):\n",
    "        \"\"\"\n",
    "        Given a matrix of test examples and labels, compute the confusion\n",
    "        matrix for the current classifier.  Should return a 2-dimensional\n",
    "        numpy array of ints, C, where C[ii,jj] is the number of times an \n",
    "        example with true label ii was labeled as jj.\n",
    "\n",
    "        :param test_x: test data \n",
    "        :param test_y: true test labels \n",
    "        \"\"\"\n",
    "        \n",
    "        C = np.zeros((10,10), dtype=int)\n",
    "        for xx, yy in zip(test_x, test_y):\n",
    "            pass \n",
    "        \n",
    "        return C \n",
    "            \n",
    "    @staticmethod\n",
    "    def accuracy(C):\n",
    "        \"\"\"\n",
    "        Given a confusion matrix C, compute the accuracy of the underlying classifier.\n",
    "        \n",
    "        :param C: a confusion matrix \n",
    "        \"\"\"\n",
    "        \n",
    "        return np.sum(C.diagonal()) / C.sum()"
   ]
  },
  {
   "cell_type": "code",
   "execution_count": 7,
   "metadata": {},
   "outputs": [
    {
     "ename": "TypeError",
     "evalue": "'Numbers' object is not iterable",
     "output_type": "error",
     "traceback": [
      "\u001b[1;31m---------------------------------------------------------------------------\u001b[0m",
      "\u001b[1;31mTypeError\u001b[0m                                 Traceback (most recent call last)",
      "\u001b[1;32m<ipython-input-7-602b13b4d0da>\u001b[0m in \u001b[0;36m<module>\u001b[1;34m()\u001b[0m\n\u001b[1;32m----> 1\u001b[1;33m \u001b[1;32mfor\u001b[0m \u001b[0mi\u001b[0m \u001b[1;32min\u001b[0m \u001b[0mdata\u001b[0m\u001b[1;33m:\u001b[0m\u001b[1;33m\u001b[0m\u001b[0m\n\u001b[0m\u001b[0;32m      2\u001b[0m     \u001b[0mprint\u001b[0m \u001b[1;33m(\u001b[0m\u001b[0mi\u001b[0m\u001b[1;33m)\u001b[0m\u001b[1;33m\u001b[0m\u001b[0m\n",
      "\u001b[1;31mTypeError\u001b[0m: 'Numbers' object is not iterable"
     ]
    }
   ],
   "source": [
    "for i in data:\n",
    "    print (i)"
   ]
  },
  {
   "cell_type": "code",
   "execution_count": null,
   "metadata": {
    "collapsed": true
   },
   "outputs": [],
   "source": []
  }
 ],
 "metadata": {
  "kernelspec": {
   "display_name": "Python 3",
   "language": "python",
   "name": "python3"
  },
  "language_info": {
   "codemirror_mode": {
    "name": "ipython",
    "version": 3
   },
   "file_extension": ".py",
   "mimetype": "text/x-python",
   "name": "python",
   "nbconvert_exporter": "python",
   "pygments_lexer": "ipython3",
   "version": "3.6.1"
  }
 },
 "nbformat": 4,
 "nbformat_minor": 2
}
